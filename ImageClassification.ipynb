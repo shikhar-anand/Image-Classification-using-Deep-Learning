{
 "cells": [
  {
   "cell_type": "code",
   "execution_count": 1,
   "metadata": {
    "colab": {
     "base_uri": "https://localhost:8080/"
    },
    "executionInfo": {
     "elapsed": 4636,
     "status": "ok",
     "timestamp": 1617947766491,
     "user": {
      "displayName": "Anand Shikhar Anand Shikhar",
      "photoUrl": "https://lh3.googleusercontent.com/a-/AOh14GifNIpMFALjHDu7J1RBoPDuVJf67uwWFpUcdHh1=s64",
      "userId": "05615306320757735443"
     },
     "user_tz": -600
    },
    "id": "2eAddj-pM3TZ",
    "outputId": "ccba75c0-3d5a-4257-d648-2f28928991e2"
   },
   "outputs": [],
   "source": [
    "# pip install bing_image_downloader\n",
    "# pip install tensorflow_datasets\n",
    "# pip install keras"
   ]
  },
  {
   "cell_type": "code",
   "execution_count": 2,
   "metadata": {},
   "outputs": [
    {
     "name": "stderr",
     "output_type": "stream",
     "text": [
      "Matplotlib created a temporary config/cache directory at /var/folders/th/4wk9mg4j3674pkjtsrtmfmzh0000gn/T/matplotlib-uhhxljf4 because the default path (/Users/shikharanand/.matplotlib) is not a writable directory; it is highly recommended to set the MPLCONFIGDIR environment variable to a writable directory, in particular to speed up the import of Matplotlib and to better support multiprocessing.\n"
     ]
    }
   ],
   "source": [
    "import numpy as np\n",
    "import os\n",
    "import PIL\n",
    "import PIL.Image\n",
    "import tensorflow as tf\n",
    "import tensorflow_datasets as tfds\n",
    "import pathlib\n",
    "from keras.preprocessing.image import ImageDataGenerator\n",
    "from bing_image_downloader import downloader"
   ]
  },
  {
   "cell_type": "code",
   "execution_count": 3,
   "metadata": {},
   "outputs": [],
   "source": [
    "query_string = [\"norwegian male\", \"norwegian female\", \"indian male\", \"indian female\"]\n",
    "output_dir='dataset'"
   ]
  },
  {
   "cell_type": "code",
   "execution_count": 4,
   "metadata": {
    "colab": {
     "base_uri": "https://localhost:8080/",
     "height": 1000
    },
    "executionInfo": {
     "elapsed": 111808,
     "status": "error",
     "timestamp": 1617947891414,
     "user": {
      "displayName": "Anand Shikhar Anand Shikhar",
      "photoUrl": "https://lh3.googleusercontent.com/a-/AOh14GifNIpMFALjHDu7J1RBoPDuVJf67uwWFpUcdHh1=s64",
      "userId": "05615306320757735443"
     },
     "user_tz": -600
    },
    "id": "SM8GANuoKxm_",
    "outputId": "a907fb19-fec8-470a-df6f-802b62a1d746"
   },
   "outputs": [],
   "source": [
    "# downloader.download(query_string, \n",
    "#                     limit=10000,  \n",
    "#                     output_dir='dataset', \n",
    "#                     adult_filter_off=True, \n",
    "#                     force_replace=False, \n",
    "#                     timeout=60)"
   ]
  },
  {
   "cell_type": "code",
   "execution_count": 5,
   "metadata": {},
   "outputs": [],
   "source": [
    "datagen = ImageDataGenerator(rotation_range=40,\n",
    "                             width_shift_range=0.2,\n",
    "                             height_shift_range=0.2,\n",
    "                             rescale=1./255,\n",
    "                             shear_range=0.2,\n",
    "                             zoom_range=0.2,\n",
    "                             horizontal_flip=True,\n",
    "                             fill_mode='nearest')"
   ]
  },
  {
   "cell_type": "code",
   "execution_count": 6,
   "metadata": {},
   "outputs": [],
   "source": [
    "base_dir = pathlib.Path.cwd() / output_dir\n",
    "IMAGE_HEIGHT = 180\n",
    "IMAGE_WIDTH = 180\n",
    "BATCH_SIZE = 64\n",
    "VALIDATION_SPLIT = 0.2"
   ]
  },
  {
   "cell_type": "code",
   "execution_count": 7,
   "metadata": {
    "scrolled": true
   },
   "outputs": [
    {
     "name": "stdout",
     "output_type": "stream",
     "text": [
      "Found 13485 files belonging to 4 classes.\n",
      "Using 10788 files for training.\n"
     ]
    }
   ],
   "source": [
    "train_ds = tf.keras.preprocessing.image_dataset_from_directory(base_dir,\n",
    "                                                               validation_split=VALIDATION_SPLIT,\n",
    "                                                               subset='training',\n",
    "                                                               seed=123,\n",
    "                                                               image_size=(IMAGE_HEIGHT, IMAGE_WIDTH),\n",
    "                                                               batch_size=BATCH_SIZE)"
   ]
  },
  {
   "cell_type": "code",
   "execution_count": 8,
   "metadata": {},
   "outputs": [
    {
     "name": "stdout",
     "output_type": "stream",
     "text": [
      "Found 13485 files belonging to 4 classes.\n",
      "Using 2697 files for validation.\n"
     ]
    }
   ],
   "source": [
    "test_ds = tf.keras.preprocessing.image_dataset_from_directory(base_dir,\n",
    "                                                              validation_split=VALIDATION_SPLIT,\n",
    "                                                              subset='validation',\n",
    "                                                              seed=123,\n",
    "                                                              image_size=(IMAGE_HEIGHT, IMAGE_WIDTH),\n",
    "                                                              batch_size=BATCH_SIZE)"
   ]
  },
  {
   "cell_type": "code",
   "execution_count": null,
   "metadata": {
    "id": "QTKwpmW2MwcT"
   },
   "outputs": [],
   "source": []
  }
 ],
 "metadata": {
  "colab": {
   "authorship_tag": "ABX9TyOzDk3p92/Zsdjoc7xf/WJg",
   "name": "ImageClassification.ipynb",
   "provenance": []
  },
  "kernelspec": {
   "display_name": "Python 3",
   "language": "python",
   "name": "python3"
  },
  "language_info": {
   "codemirror_mode": {
    "name": "ipython",
    "version": 3
   },
   "file_extension": ".py",
   "mimetype": "text/x-python",
   "name": "python",
   "nbconvert_exporter": "python",
   "pygments_lexer": "ipython3",
   "version": "3.8.5"
  }
 },
 "nbformat": 4,
 "nbformat_minor": 1
}
